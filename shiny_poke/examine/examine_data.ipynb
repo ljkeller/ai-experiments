{
 "cells": [
  {
   "cell_type": "code",
   "execution_count": 1,
   "metadata": {},
   "outputs": [],
   "source": [
    "from PIL import Image\n",
    "import os\n",
    "from collections import Counter\n",
    "\n",
    "data_path = \"../data/unshiny\""
   ]
  },
  {
   "cell_type": "code",
   "execution_count": 2,
   "metadata": {},
   "outputs": [
    {
     "name": "stdout",
     "output_type": "stream",
     "text": [
      "Shapes counter: Counter({(80, 80): 2928, (256, 256): 2478, (64, 64): 1827, (56, 56): 1482, (120, 120): 1382, (96, 96): 1298, (128, 128): 796, (128, 120): 3, (121, 120): 3, (126, 120): 3, (124, 120): 3, (164, 120): 2, (131, 120): 2, (127, 120): 2, (142, 120): 1, (146, 120): 1, (120, 130): 1, (120, 121): 1, (157, 120): 1, (133, 120): 1, (143, 120): 1, (232, 120): 1, (120, 122): 1, (198, 120): 1, (168, 120): 1, (192, 120): 1, (122, 120): 1, (123, 120): 1, (140, 120): 1, (120, 125): 1, (144, 120): 1, (134, 120): 1, (152, 120): 1, (123, 128): 1, (120, 123): 1, (175, 120): 1, (137, 120): 1, (120, 136): 1, (125, 120): 1, (132, 125): 1, (207, 120): 1, (141, 120): 1, (135, 120): 1, (132, 120): 1})\n",
      "Modes counter: Counter({(80, 80): 2928, (256, 256): 2478, (64, 64): 1827, (56, 56): 1482, (120, 120): 1382, (96, 96): 1298, (128, 128): 796, (128, 120): 3, (121, 120): 3, (126, 120): 3, (124, 120): 3, (164, 120): 2, (131, 120): 2, (127, 120): 2, (142, 120): 1, (146, 120): 1, (120, 130): 1, (120, 121): 1, (157, 120): 1, (133, 120): 1, (143, 120): 1, (232, 120): 1, (120, 122): 1, (198, 120): 1, (168, 120): 1, (192, 120): 1, (122, 120): 1, (123, 120): 1, (140, 120): 1, (120, 125): 1, (144, 120): 1, (134, 120): 1, (152, 120): 1, (123, 128): 1, (120, 123): 1, (175, 120): 1, (137, 120): 1, (120, 136): 1, (125, 120): 1, (132, 125): 1, (207, 120): 1, (141, 120): 1, (135, 120): 1, (132, 120): 1})\n"
     ]
    }
   ],
   "source": [
    "unique_shapes = set()\n",
    "unique_modes = set()\n",
    "shapes_counter = dict()\n",
    "modes_counter = dict()\n",
    "imgs = []\n",
    "for path, _dirs, fname in os.walk(data_path):\n",
    "    for f in fname:\n",
    "        if f.endswith('.png'):\n",
    "            imgs.append(Image.open(os.path.join(path, f)))\n",
    "            # img = Image.open(os.path.join(path, f))\n",
    "            # unique_shapes.add(img.size)\n",
    "            # unique_modes.add(img.mode)\n",
    "\n",
    "shapes_counter = Counter([img.size for img in imgs])\n",
    "modes_counter = Counter([img.mode for img in imgs])\n",
    "\n",
    "# print(f\"Unique shapes: {unique_shapes}\")\n",
    "# print(f\"Unique modes: {unique_modes}\")\n",
    "print(f\"Shapes counter: {shapes_counter}\")\n",
    "print(f\"Modes counter: {modes_counter}\")"
   ]
  }
 ],
 "metadata": {
  "kernelspec": {
   "display_name": "ai2024",
   "language": "python",
   "name": "python3"
  },
  "language_info": {
   "codemirror_mode": {
    "name": "ipython",
    "version": 3
   },
   "file_extension": ".py",
   "mimetype": "text/x-python",
   "name": "python",
   "nbconvert_exporter": "python",
   "pygments_lexer": "ipython3",
   "version": "3.10.9"
  }
 },
 "nbformat": 4,
 "nbformat_minor": 2
}
